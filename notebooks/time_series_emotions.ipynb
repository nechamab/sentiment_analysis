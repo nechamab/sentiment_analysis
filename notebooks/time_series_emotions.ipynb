{
 "cells": [
  {
   "cell_type": "markdown",
   "metadata": {},
   "source": [
    "## Time series analysis\n",
    "\n",
    "emotions in tweets throughout: \n",
    "- the week\n",
    "- the day"
   ]
  },
  {
   "cell_type": "code",
   "execution_count": 1,
   "metadata": {
    "ExecuteTime": {
     "end_time": "2024-02-08T16:53:39.012195Z",
     "start_time": "2024-02-08T16:53:37.194303Z"
    }
   },
   "outputs": [],
   "source": [
    "# import libraries\n",
    "import pandas as pd \n",
    "import matplotlib.pyplot as plt\n",
    "import seaborn as sns\n",
    "import datetime"
   ]
  },
  {
   "cell_type": "code",
   "execution_count": 2,
   "metadata": {
    "ExecuteTime": {
     "end_time": "2024-02-08T16:53:44.393731Z",
     "start_time": "2024-02-08T16:53:39.030235Z"
    }
   },
   "outputs": [
    {
     "data": {
      "text/html": [
       "<div>\n",
       "<style scoped>\n",
       "    .dataframe tbody tr th:only-of-type {\n",
       "        vertical-align: middle;\n",
       "    }\n",
       "\n",
       "    .dataframe tbody tr th {\n",
       "        vertical-align: top;\n",
       "    }\n",
       "\n",
       "    .dataframe thead th {\n",
       "        text-align: right;\n",
       "    }\n",
       "</style>\n",
       "<table border=\"1\" class=\"dataframe\">\n",
       "  <thead>\n",
       "    <tr style=\"text-align: right;\">\n",
       "      <th></th>\n",
       "      <th>sentiment</th>\n",
       "      <th>tweet_id</th>\n",
       "      <th>date</th>\n",
       "      <th>query</th>\n",
       "      <th>user</th>\n",
       "      <th>text</th>\n",
       "    </tr>\n",
       "  </thead>\n",
       "  <tbody>\n",
       "    <tr>\n",
       "      <th>8571</th>\n",
       "      <td>negative</td>\n",
       "      <td>1548274671</td>\n",
       "      <td>Fri Apr 17 20:30:31 PDT 2009</td>\n",
       "      <td>NO_QUERY</td>\n",
       "      <td>xoLovebug224</td>\n",
       "      <td>Working on my songg for aunt nan.   kinda hard...</td>\n",
       "    </tr>\n",
       "    <tr>\n",
       "      <th>8572</th>\n",
       "      <td>negative</td>\n",
       "      <td>1548274782</td>\n",
       "      <td>Fri Apr 17 20:30:34 PDT 2009</td>\n",
       "      <td>NO_QUERY</td>\n",
       "      <td>Kerry_Baker</td>\n",
       "      <td>can't sleep, it's 4.30am and i have to be up a...</td>\n",
       "    </tr>\n",
       "    <tr>\n",
       "      <th>8573</th>\n",
       "      <td>negative</td>\n",
       "      <td>1548275152</td>\n",
       "      <td>Fri Apr 17 20:30:38 PDT 2009</td>\n",
       "      <td>NO_QUERY</td>\n",
       "      <td>glamorusindie81</td>\n",
       "      <td>wishing i could be at coachella this weekend  ...</td>\n",
       "    </tr>\n",
       "    <tr>\n",
       "      <th>8574</th>\n",
       "      <td>negative</td>\n",
       "      <td>1548275569</td>\n",
       "      <td>Fri Apr 17 20:30:39 PDT 2009</td>\n",
       "      <td>NO_QUERY</td>\n",
       "      <td>WOnet</td>\n",
       "      <td>Well, @LilWO was having a tough day/night. Wan...</td>\n",
       "    </tr>\n",
       "    <tr>\n",
       "      <th>8575</th>\n",
       "      <td>negative</td>\n",
       "      <td>1548275799</td>\n",
       "      <td>Fri Apr 17 20:30:43 PDT 2009</td>\n",
       "      <td>NO_QUERY</td>\n",
       "      <td>jessicakornberg</td>\n",
       "      <td>taking some much needed naked time.  too bad i...</td>\n",
       "    </tr>\n",
       "  </tbody>\n",
       "</table>\n",
       "</div>"
      ],
      "text/plain": [
       "     sentiment    tweet_id                          date     query  \\\n",
       "8571  negative  1548274671  Fri Apr 17 20:30:31 PDT 2009  NO_QUERY   \n",
       "8572  negative  1548274782  Fri Apr 17 20:30:34 PDT 2009  NO_QUERY   \n",
       "8573  negative  1548275152  Fri Apr 17 20:30:38 PDT 2009  NO_QUERY   \n",
       "8574  negative  1548275569  Fri Apr 17 20:30:39 PDT 2009  NO_QUERY   \n",
       "8575  negative  1548275799  Fri Apr 17 20:30:43 PDT 2009  NO_QUERY   \n",
       "\n",
       "                 user                                               text  \n",
       "8571     xoLovebug224  Working on my songg for aunt nan.   kinda hard...  \n",
       "8572      Kerry_Baker  can't sleep, it's 4.30am and i have to be up a...  \n",
       "8573  glamorusindie81  wishing i could be at coachella this weekend  ...  \n",
       "8574            WOnet  Well, @LilWO was having a tough day/night. Wan...  \n",
       "8575  jessicakornberg  taking some much needed naked time.  too bad i...  "
      ]
     },
     "execution_count": 2,
     "metadata": {},
     "output_type": "execute_result"
    }
   ],
   "source": [
    "# Load in data already separated into train and test data\n",
    "data = pd.read_csv('data.csv.zip', encoding='latin-1')\n",
    "\n",
    "# rename columns\n",
    "data.columns = ['sentiment', 'tweet_id', 'date', 'query', 'user', 'text']\n",
    "\n",
    "# replace sentiment with their real values\n",
    "data['sentiment'] = data['sentiment'].replace({0: 'negative', 2: 'neutral', 4: 'positive'})\n",
    "\n",
    "# sort by datetime\n",
    "sorted_data = data.sort_values(by='date')\n",
    "\n",
    "# print out head\n",
    "sorted_data.head()"
   ]
  },
  {
   "cell_type": "markdown",
   "metadata": {},
   "source": [
    "### What day do people tweet the most"
   ]
  },
  {
   "cell_type": "code",
   "execution_count": 3,
   "metadata": {
    "ExecuteTime": {
     "end_time": "2024-02-08T16:53:49.210089Z",
     "start_time": "2024-02-08T16:53:44.408095Z"
    }
   },
   "outputs": [
    {
     "name": "stderr",
     "output_type": "stream",
     "text": [
      "/Users/nechamaborisute/anaconda3/envs/learn-env/lib/python3.8/site-packages/dateutil/parser/_parser.py:1207: UnknownTimezoneWarning: tzname PDT identified but not understood.  Pass `tzinfos` argument in order to correctly return a timezone-aware datetime.  In a future version, this will raise an exception.\n",
      "  warnings.warn(\"tzname {tzname} identified but not understood.  \"\n"
     ]
    },
    {
     "data": {
      "text/html": [
       "<div>\n",
       "<style scoped>\n",
       "    .dataframe tbody tr th:only-of-type {\n",
       "        vertical-align: middle;\n",
       "    }\n",
       "\n",
       "    .dataframe tbody tr th {\n",
       "        vertical-align: top;\n",
       "    }\n",
       "\n",
       "    .dataframe thead th {\n",
       "        text-align: right;\n",
       "    }\n",
       "</style>\n",
       "<table border=\"1\" class=\"dataframe\">\n",
       "  <thead>\n",
       "    <tr style=\"text-align: right;\">\n",
       "      <th></th>\n",
       "      <th>sentiment</th>\n",
       "      <th>day</th>\n",
       "      <th>time</th>\n",
       "    </tr>\n",
       "  </thead>\n",
       "  <tbody>\n",
       "    <tr>\n",
       "      <th>8571</th>\n",
       "      <td>negative</td>\n",
       "      <td>Friday</td>\n",
       "      <td>20:30:31</td>\n",
       "    </tr>\n",
       "    <tr>\n",
       "      <th>8572</th>\n",
       "      <td>negative</td>\n",
       "      <td>Friday</td>\n",
       "      <td>20:30:34</td>\n",
       "    </tr>\n",
       "    <tr>\n",
       "      <th>8573</th>\n",
       "      <td>negative</td>\n",
       "      <td>Friday</td>\n",
       "      <td>20:30:38</td>\n",
       "    </tr>\n",
       "    <tr>\n",
       "      <th>8574</th>\n",
       "      <td>negative</td>\n",
       "      <td>Friday</td>\n",
       "      <td>20:30:39</td>\n",
       "    </tr>\n",
       "    <tr>\n",
       "      <th>8575</th>\n",
       "      <td>negative</td>\n",
       "      <td>Friday</td>\n",
       "      <td>20:30:43</td>\n",
       "    </tr>\n",
       "  </tbody>\n",
       "</table>\n",
       "</div>"
      ],
      "text/plain": [
       "     sentiment     day      time\n",
       "8571  negative  Friday  20:30:31\n",
       "8572  negative  Friday  20:30:34\n",
       "8573  negative  Friday  20:30:38\n",
       "8574  negative  Friday  20:30:39\n",
       "8575  negative  Friday  20:30:43"
      ]
     },
     "execution_count": 3,
     "metadata": {},
     "output_type": "execute_result"
    }
   ],
   "source": [
    "day_of_week = sorted_data.copy()\n",
    "\n",
    "day_of_week  = day_of_week[['sentiment', 'date']]\n",
    "\n",
    "day_of_week['date'] = pd.to_datetime(day_of_week['date'])\n",
    "\n",
    "day_of_week['day'] = day_of_week['date'].dt.day_name()\n",
    "day_of_week['time'] = day_of_week['date'].dt.time\n",
    "\n",
    "day_of_week = day_of_week.drop('date', axis = 1)\n",
    "\n",
    "day_of_week.head()"
   ]
  },
  {
   "cell_type": "code",
   "execution_count": 4,
   "metadata": {
    "ExecuteTime": {
     "end_time": "2024-02-08T16:53:50.783457Z",
     "start_time": "2024-02-08T16:53:49.225780Z"
    }
   },
   "outputs": [
    {
     "data": {
      "text/plain": [
       "<AxesSubplot:xlabel='sentiment', ylabel='count'>"
      ]
     },
     "execution_count": 4,
     "metadata": {},
     "output_type": "execute_result"
    },
    {
     "data": {
      "image/png": "[encoded data removed]",
      "text/plain": [
       "<Figure size 640x480 with 1 Axes>"
      ]
     },
     "metadata": {},
     "output_type": "display_data"
    }
   ],
   "source": [
    "sns.countplot(data = day_of_week, x = 'sentiment', hue = 'day')"
   ]
  },
  {
   "cell_type": "markdown",
   "metadata": {},
   "source": [
    "* Tweets are more negative in general.\n",
    "* Negative tweets hit the roof on Saturday.\n",
    "* Positive tweets are at the highest on Sundays\n",
    "* On Wednesday people are DONE with positivity"
   ]
  },
  {
   "cell_type": "markdown",
   "metadata": {},
   "source": [
    "### What time of day do people tweet "
   ]
  },
  {
   "cell_type": "code",
   "execution_count": null,
   "metadata": {
    "ExecuteTime": {
     "start_time": "2024-02-08T16:53:28.993Z"
    }
   },
   "outputs": [],
   "source": [
    "# Group the data by time and sentiment and count the number of tweets\n",
    "tweets_by_time_sentiment = day_of_week.groupby(['time', 'sentiment']).size().unstack()\n",
    "\n",
    "# Plot the sentiment of tweets according to time\n",
    "tweets_by_time_sentiment.plot(kind='bar', stacked=True)\n",
    "\n",
    "# Set the labels and title\n",
    "plt.xlabel('Time')\n",
    "plt.ylabel('Count')\n",
    "plt.title('Sentiment of Tweets by Time')\n",
    "\n",
    "# Display the plot\n",
    "plt.show()"
   ]
  },
  {
   "cell_type": "code",
   "execution_count": null,
   "metadata": {},
   "outputs": [],
   "source": []
  }
 ],
 "metadata": {
  "kernelspec": {
   "display_name": "Python (learn-env)",
   "language": "python",
   "name": "learn-env"
  },
  "language_info": {
   "codemirror_mode": {
    "name": "ipython",
    "version": 3
   },
   "file_extension": ".py",
   "mimetype": "text/x-python",
   "name": "python",
   "nbconvert_exporter": "python",
   "pygments_lexer": "ipython3",
   "version": "3.8.5"
  },
  "varInspector": {
   "cols": {
    "lenName": 16,
    "lenType": 16,
    "lenVar": 40
   },
   "kernels_config": {
    "python": {
     "delete_cmd_postfix": "",
     "delete_cmd_prefix": "del ",
     "library": "var_list.py",
     "varRefreshCmd": "print(var_dic_list())"
    },
    "r": {
     "delete_cmd_postfix": ") ",
     "delete_cmd_prefix": "rm(",
     "library": "var_list.r",
     "varRefreshCmd": "cat(var_dic_list()) "
    }
   },
   "types_to_exclude": [
    "module",
    "function",
    "builtin_function_or_method",
    "instance",
    "_Feature"
   ],
   "window_display": false
  }
 },
 "nbformat": 4,
 "nbformat_minor": 4
}
